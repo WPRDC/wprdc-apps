{
 "cells": [
  {
   "cell_type": "code",
   "id": "initial_id",
   "metadata": {
    "collapsed": true,
    "ExecuteTime": {
     "end_time": "2025-07-01T20:20:14.153689Z",
     "start_time": "2025-07-01T20:20:13.974647Z"
    }
   },
   "source": [
    "import sys\n",
    "\n",
    "import requests\n",
    "import csv\n",
    "\n"
   ],
   "outputs": [],
   "execution_count": 1
  },
  {
   "metadata": {
    "ExecuteTime": {
     "end_time": "2025-07-01T20:29:16.509107Z",
     "start_time": "2025-07-01T20:29:16.500397Z"
    }
   },
   "cell_type": "code",
   "source": [
    "def get_name(parcel_id):\n",
    "    r = requests.get(\"http://localhost:3000/api/parcels/owner/search\", params={'q': parcel_id})\n",
    "    return r.json()['owner']"
   ],
   "id": "b5c0079c351d9bf5",
   "outputs": [],
   "execution_count": 7
  },
  {
   "metadata": {
    "ExecuteTime": {
     "end_time": "2025-07-01T20:31:15.022288Z",
     "start_time": "2025-07-01T20:29:39.945309Z"
    }
   },
   "cell_type": "code",
   "source": [
    "with open('large_public_owners.csv') as f:\n",
    "    reader = csv.DictReader(f, fieldnames=['owner_address', 'parcels', 'parcel_id'])\n",
    "    with open('large_public_owners_with_names.csv', 'w') as outfile:\n",
    "        writer = csv.DictWriter(outfile, fieldnames=reader.fieldnames + ['owner_name'])\n",
    "        writer.writeheader()\n",
    "        for row in reader:\n",
    "            row['owner_name'] = get_name(row['parcel_id'])\n",
    "            writer.writerow(row)\n"
   ],
   "id": "21e6261252ecc98f",
   "outputs": [],
   "execution_count": 8
  }
 ],
 "metadata": {
  "kernelspec": {
   "display_name": "Python 3",
   "language": "python",
   "name": "python3"
  },
  "language_info": {
   "codemirror_mode": {
    "name": "ipython",
    "version": 2
   },
   "file_extension": ".py",
   "mimetype": "text/x-python",
   "name": "python",
   "nbconvert_exporter": "python",
   "pygments_lexer": "ipython2",
   "version": "2.7.6"
  }
 },
 "nbformat": 4,
 "nbformat_minor": 5
}
